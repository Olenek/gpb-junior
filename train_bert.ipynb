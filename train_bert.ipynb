{
 "cells": [
  {
   "cell_type": "code",
   "execution_count": 1,
   "outputs": [
    {
     "data": {
      "text/plain": "               product_name      price  postcode  \\\n0       3-комнатная, 137 м²   63000000  127473.0   \n1           Студия, 16,7 м²    3250000  108815.0   \n2        3-комнатная, 76 м²   16004680       NaN   \n3        1-комнатная, 24 м²    7841776       NaN   \n4       3-комнатная, 126 м²  120000000  121352.0   \n...                     ...        ...       ...   \n98817    2-комнатная, 42 м²   12183528  125212.0   \n98818  2-комнатная, 63,5 м²   34925000  129090.0   \n98819  1-комнатная, 34,4 м²   10000000  117534.0   \n98820    3-комнатная, 56 м²   15999000  109518.0   \n98821  2-комнатная, 55,1 м²   16750000  109316.0   \n\n                          address_name        lat        lon object_type  \\\n0         2-й Щемиловский переулок, 5а  55.778894  37.608844    Квартира   \n1                      Харлампиева, 46  55.551025  37.313054    Квартира   \n2                    ЖК Прокшино, 8 к4  55.594802  37.431264    Квартира   \n3                    ЖК Прокшино, 6 к2  55.594332  37.428099    Квартира   \n4                     Давыдковская, 18  55.721097  37.464342    Квартира   \n...                                ...        ...        ...         ...   \n98817    Кронштадтский бульвар, 9 к1/3  55.842935  37.487680    Квартира   \n98818       Олимпийский проспект, вл10  55.777354  37.621747    Квартира   \n98819        Чертановская улица, 53 к1  55.602124  37.591573    Квартира   \n98820    1-й Грайвороновский проезд, 3  55.719431  37.724875    Квартира   \n98821  Волгоградский проспект, 32/3 к6  55.721245  37.694176    Квартира   \n\n       total_square  rooms  floor    city settlement  \\\n0             137.0    3.0    6.0  Москва        NaN   \n1              16.7    NaN    1.0  Москва        NaN   \n2              76.0    3.0    6.0  Москва        NaN   \n3              24.0    1.0   10.0  Москва        NaN   \n4             126.0    3.0   16.0  Москва        NaN   \n...             ...    ...    ...     ...        ...   \n98817          42.0    2.0    8.0  Москва        NaN   \n98818          63.5    2.0    3.0  Москва        NaN   \n98819          34.4    1.0    3.0  Москва        NaN   \n98820          56.0    3.0   11.0  Москва        NaN   \n98821          55.1    2.0   17.0  Москва        NaN   \n\n                       district area  \\\n0                Тверской район  NaN   \n1      Филимонковское поселение  NaN   \n2           Сосенское поселение  NaN   \n3           Сосенское поселение  NaN   \n4          Фили-Давыдково район  NaN   \n...                         ...  ...   \n98817         Головинский район  NaN   \n98818           Мещанский район  NaN   \n98819     Чертаново Южное район  NaN   \n98820        Текстильщики район  NaN   \n98821        Южнопортовый район  NaN   \n\n                                             description               source  \\\n0      Просторная квартира свободной планировки с пан...                 ЦИАН   \n1                 ВНИМАНИЕ! ОЧЕНЬ ПРИВЛЕКАТЕЛЬНОЕ ПРЕ...              Домклик   \n2      Apт.1684018. 0,01% - гибкая ипотека! Воспользу...  Яндекс.Недвижимость   \n3      Продается однокомнатная квартира № 381 в новос...          Новострой-М   \n4      Шикарное предложение!\\nПродаётся трёхкомнатная...              Домклик   \n...                                                  ...                  ...   \n98817  Продаётся 2-комн.квартира площадью 42.00 кв.м ...  Яндекс.Недвижимость   \n98818  С 1 октября повышение цен на 5% на апартаменты...                 ЦИАН   \n98819  Продажа идеальной однокомнатной квартиры. Безу...              Домклик   \n98820  Новостройка! Евротрешка , две раздельная комна...              Домклик   \n98821  !Двушка в бизнес-классе с шикарной планировкой...                 ЦИАН   \n\n        rs_dist  \n0      0.000768  \n1      0.135866  \n2      0.061236  \n3      0.062596  \n4      0.025555  \n...         ...  \n98817  0.025648  \n98818  0.000551  \n98819  0.023890  \n98820  0.012020  \n98821  0.006450  \n\n[98822 rows x 17 columns]",
      "text/html": "<div>\n<style scoped>\n    .dataframe tbody tr th:only-of-type {\n        vertical-align: middle;\n    }\n\n    .dataframe tbody tr th {\n        vertical-align: top;\n    }\n\n    .dataframe thead th {\n        text-align: right;\n    }\n</style>\n<table border=\"1\" class=\"dataframe\">\n  <thead>\n    <tr style=\"text-align: right;\">\n      <th></th>\n      <th>product_name</th>\n      <th>price</th>\n      <th>postcode</th>\n      <th>address_name</th>\n      <th>lat</th>\n      <th>lon</th>\n      <th>object_type</th>\n      <th>total_square</th>\n      <th>rooms</th>\n      <th>floor</th>\n      <th>city</th>\n      <th>settlement</th>\n      <th>district</th>\n      <th>area</th>\n      <th>description</th>\n      <th>source</th>\n      <th>rs_dist</th>\n    </tr>\n  </thead>\n  <tbody>\n    <tr>\n      <th>0</th>\n      <td>3-комнатная, 137 м²</td>\n      <td>63000000</td>\n      <td>127473.0</td>\n      <td>2-й Щемиловский переулок, 5а</td>\n      <td>55.778894</td>\n      <td>37.608844</td>\n      <td>Квартира</td>\n      <td>137.0</td>\n      <td>3.0</td>\n      <td>6.0</td>\n      <td>Москва</td>\n      <td>NaN</td>\n      <td>Тверской район</td>\n      <td>NaN</td>\n      <td>Просторная квартира свободной планировки с пан...</td>\n      <td>ЦИАН</td>\n      <td>0.000768</td>\n    </tr>\n    <tr>\n      <th>1</th>\n      <td>Студия, 16,7 м²</td>\n      <td>3250000</td>\n      <td>108815.0</td>\n      <td>Харлампиева, 46</td>\n      <td>55.551025</td>\n      <td>37.313054</td>\n      <td>Квартира</td>\n      <td>16.7</td>\n      <td>NaN</td>\n      <td>1.0</td>\n      <td>Москва</td>\n      <td>NaN</td>\n      <td>Филимонковское поселение</td>\n      <td>NaN</td>\n      <td>ВНИМАНИЕ! ОЧЕНЬ ПРИВЛЕКАТЕЛЬНОЕ ПРЕ...</td>\n      <td>Домклик</td>\n      <td>0.135866</td>\n    </tr>\n    <tr>\n      <th>2</th>\n      <td>3-комнатная, 76 м²</td>\n      <td>16004680</td>\n      <td>NaN</td>\n      <td>ЖК Прокшино, 8 к4</td>\n      <td>55.594802</td>\n      <td>37.431264</td>\n      <td>Квартира</td>\n      <td>76.0</td>\n      <td>3.0</td>\n      <td>6.0</td>\n      <td>Москва</td>\n      <td>NaN</td>\n      <td>Сосенское поселение</td>\n      <td>NaN</td>\n      <td>Apт.1684018. 0,01% - гибкая ипотека! Воспользу...</td>\n      <td>Яндекс.Недвижимость</td>\n      <td>0.061236</td>\n    </tr>\n    <tr>\n      <th>3</th>\n      <td>1-комнатная, 24 м²</td>\n      <td>7841776</td>\n      <td>NaN</td>\n      <td>ЖК Прокшино, 6 к2</td>\n      <td>55.594332</td>\n      <td>37.428099</td>\n      <td>Квартира</td>\n      <td>24.0</td>\n      <td>1.0</td>\n      <td>10.0</td>\n      <td>Москва</td>\n      <td>NaN</td>\n      <td>Сосенское поселение</td>\n      <td>NaN</td>\n      <td>Продается однокомнатная квартира № 381 в новос...</td>\n      <td>Новострой-М</td>\n      <td>0.062596</td>\n    </tr>\n    <tr>\n      <th>4</th>\n      <td>3-комнатная, 126 м²</td>\n      <td>120000000</td>\n      <td>121352.0</td>\n      <td>Давыдковская, 18</td>\n      <td>55.721097</td>\n      <td>37.464342</td>\n      <td>Квартира</td>\n      <td>126.0</td>\n      <td>3.0</td>\n      <td>16.0</td>\n      <td>Москва</td>\n      <td>NaN</td>\n      <td>Фили-Давыдково район</td>\n      <td>NaN</td>\n      <td>Шикарное предложение!\\nПродаётся трёхкомнатная...</td>\n      <td>Домклик</td>\n      <td>0.025555</td>\n    </tr>\n    <tr>\n      <th>...</th>\n      <td>...</td>\n      <td>...</td>\n      <td>...</td>\n      <td>...</td>\n      <td>...</td>\n      <td>...</td>\n      <td>...</td>\n      <td>...</td>\n      <td>...</td>\n      <td>...</td>\n      <td>...</td>\n      <td>...</td>\n      <td>...</td>\n      <td>...</td>\n      <td>...</td>\n      <td>...</td>\n      <td>...</td>\n    </tr>\n    <tr>\n      <th>98817</th>\n      <td>2-комнатная, 42 м²</td>\n      <td>12183528</td>\n      <td>125212.0</td>\n      <td>Кронштадтский бульвар, 9 к1/3</td>\n      <td>55.842935</td>\n      <td>37.487680</td>\n      <td>Квартира</td>\n      <td>42.0</td>\n      <td>2.0</td>\n      <td>8.0</td>\n      <td>Москва</td>\n      <td>NaN</td>\n      <td>Головинский район</td>\n      <td>NaN</td>\n      <td>Продаётся 2-комн.квартира площадью 42.00 кв.м ...</td>\n      <td>Яндекс.Недвижимость</td>\n      <td>0.025648</td>\n    </tr>\n    <tr>\n      <th>98818</th>\n      <td>2-комнатная, 63,5 м²</td>\n      <td>34925000</td>\n      <td>129090.0</td>\n      <td>Олимпийский проспект, вл10</td>\n      <td>55.777354</td>\n      <td>37.621747</td>\n      <td>Квартира</td>\n      <td>63.5</td>\n      <td>2.0</td>\n      <td>3.0</td>\n      <td>Москва</td>\n      <td>NaN</td>\n      <td>Мещанский район</td>\n      <td>NaN</td>\n      <td>С 1 октября повышение цен на 5% на апартаменты...</td>\n      <td>ЦИАН</td>\n      <td>0.000551</td>\n    </tr>\n    <tr>\n      <th>98819</th>\n      <td>1-комнатная, 34,4 м²</td>\n      <td>10000000</td>\n      <td>117534.0</td>\n      <td>Чертановская улица, 53 к1</td>\n      <td>55.602124</td>\n      <td>37.591573</td>\n      <td>Квартира</td>\n      <td>34.4</td>\n      <td>1.0</td>\n      <td>3.0</td>\n      <td>Москва</td>\n      <td>NaN</td>\n      <td>Чертаново Южное район</td>\n      <td>NaN</td>\n      <td>Продажа идеальной однокомнатной квартиры. Безу...</td>\n      <td>Домклик</td>\n      <td>0.023890</td>\n    </tr>\n    <tr>\n      <th>98820</th>\n      <td>3-комнатная, 56 м²</td>\n      <td>15999000</td>\n      <td>109518.0</td>\n      <td>1-й Грайвороновский проезд, 3</td>\n      <td>55.719431</td>\n      <td>37.724875</td>\n      <td>Квартира</td>\n      <td>56.0</td>\n      <td>3.0</td>\n      <td>11.0</td>\n      <td>Москва</td>\n      <td>NaN</td>\n      <td>Текстильщики район</td>\n      <td>NaN</td>\n      <td>Новостройка! Евротрешка , две раздельная комна...</td>\n      <td>Домклик</td>\n      <td>0.012020</td>\n    </tr>\n    <tr>\n      <th>98821</th>\n      <td>2-комнатная, 55,1 м²</td>\n      <td>16750000</td>\n      <td>109316.0</td>\n      <td>Волгоградский проспект, 32/3 к6</td>\n      <td>55.721245</td>\n      <td>37.694176</td>\n      <td>Квартира</td>\n      <td>55.1</td>\n      <td>2.0</td>\n      <td>17.0</td>\n      <td>Москва</td>\n      <td>NaN</td>\n      <td>Южнопортовый район</td>\n      <td>NaN</td>\n      <td>!Двушка в бизнес-классе с шикарной планировкой...</td>\n      <td>ЦИАН</td>\n      <td>0.006450</td>\n    </tr>\n  </tbody>\n</table>\n<p>98822 rows × 17 columns</p>\n</div>"
     },
     "execution_count": 1,
     "metadata": {},
     "output_type": "execute_result"
    }
   ],
   "source": [
    "import pandas as pd\n",
    "\n",
    "df = pd.read_csv('data/realty_data.csv', encoding='utf-8').drop(columns='period')\n",
    "df['product_name'] = df.product_name.str.replace(' ', ' ')\n",
    "rs_coord = (55.7539, 37.6208)\n",
    "\n",
    "df['rs_dist'] = (df['lat'] - rs_coord[0]) ** 2 + (df['lon'] - rs_coord[1]) ** 2\n",
    "df"
   ],
   "metadata": {
    "collapsed": false
   }
  },
  {
   "cell_type": "code",
   "execution_count": 2,
   "outputs": [],
   "source": [
    "import joblib\n",
    "from src.OLS import SMOLSWrapper, PandasSimpleImputer\n",
    "\n",
    "reg_pipe = joblib.load('pipe.pkl')\n",
    "clusterer = joblib.load('clusterer.pkl')\n",
    "train_index = joblib.load('train_index.pkl')"
   ],
   "metadata": {
    "collapsed": false
   }
  },
  {
   "cell_type": "code",
   "execution_count": 3,
   "outputs": [
    {
     "name": "stderr",
     "output_type": "stream",
     "text": [
      "C:\\Users\\Anton\\AppData\\Local\\Temp\\ipykernel_28136\\2697482820.py:7: SettingWithCopyWarning: \n",
      "A value is trying to be set on a copy of a slice from a DataFrame.\n",
      "Try using .loc[row_indexer,col_indexer] = value instead\n",
      "\n",
      "See the caveats in the documentation: https://pandas.pydata.org/pandas-docs/stable/user_guide/indexing.html#returning-a-view-versus-a-copy\n",
      "  reg_inputs['cluster'] = clusterer.predict(df[['lat', 'lon']])\n"
     ]
    }
   ],
   "source": [
    "cols = ['product_name', 'city', 'district', 'address_name', 'description']\n",
    "\n",
    "x_text = df[cols].apply(lambda row: '. '.join(row.values.astype(str)), axis=1)\n",
    "reg_features = ['total_square', 'rooms', 'floor', 'rs_dist']\n",
    "\n",
    "reg_inputs = df[reg_features]\n",
    "reg_inputs['cluster'] = clusterer.predict(df[['lat', 'lon']])\n",
    "\n",
    "reg_preds = reg_pipe.predict(reg_inputs)\n",
    "\n",
    "y_text = (df['price'] - reg_preds)"
   ],
   "metadata": {
    "collapsed": false
   }
  },
  {
   "cell_type": "code",
   "execution_count": 4,
   "outputs": [
    {
     "name": "stdout",
     "output_type": "stream",
     "text": [
      "TRAIN SHAPE: (79057,)\n",
      "VAL SHAPE: (19765,)\n"
     ]
    }
   ],
   "source": [
    "x_train = x_text[train_index].reset_index(drop=True)\n",
    "y_train = y_text[train_index].to_numpy()\n",
    "\n",
    "x_val = x_text[~x_text.index.isin(train_index)].reset_index(drop=True)\n",
    "y_val = y_text[~x_text.index.isin(train_index)].to_numpy()\n",
    "\n",
    "print(f'TRAIN SHAPE: {x_train.shape}\\nVAL SHAPE: {x_val.shape}')"
   ],
   "metadata": {
    "collapsed": false
   }
  },
  {
   "cell_type": "code",
   "execution_count": 5,
   "outputs": [],
   "source": [
    "from transformers import AutoTokenizer, AutoModel, AutoConfig, set_seed\n",
    "\n",
    "set_seed(12)\n",
    "#Load AutoModel from huggingface model repository\n",
    "tokenizer = AutoTokenizer.from_pretrained(\"sberbank-ai/sbert_large_nlu_ru\", do_lower_case=True)\n",
    "\n",
    "encoding_t = tokenizer(list(x_train), padding='max_length', truncation=True, max_length=200, return_tensors='pt')\n",
    "encoding_v = tokenizer(list(x_val), padding='max_length', truncation=True, max_length=200, return_tensors='pt')"
   ],
   "metadata": {
    "collapsed": false
   }
  },
  {
   "cell_type": "code",
   "execution_count": 6,
   "outputs": [],
   "source": [
    "from sklearn.preprocessing import StandardScaler\n",
    "\n",
    "scaler = StandardScaler()\n",
    "y_train = scaler.fit_transform(y_train.reshape(-1, 1))\n",
    "y_val = scaler.transform(y_val.reshape(-1, 1))"
   ],
   "metadata": {
    "collapsed": false
   }
  },
  {
   "cell_type": "code",
   "execution_count": 13,
   "outputs": [
    {
     "name": "stderr",
     "output_type": "stream",
     "text": [
      "C:\\Users\\Anton\\AppData\\Local\\Temp\\ipykernel_28136\\2427315894.py:8: UserWarning: To copy construct from a tensor, it is recommended to use sourceTensor.clone().detach() or sourceTensor.clone().detach().requires_grad_(True), rather than torch.tensor(sourceTensor).\n",
      "  input_tensor = torch.tensor(inputs)\n",
      "C:\\Users\\Anton\\AppData\\Local\\Temp\\ipykernel_28136\\2427315894.py:9: UserWarning: To copy construct from a tensor, it is recommended to use sourceTensor.clone().detach() or sourceTensor.clone().detach().requires_grad_(True), rather than torch.tensor(sourceTensor).\n",
      "  mask_tensor = torch.tensor(masks).float()\n"
     ]
    }
   ],
   "source": [
    "import torch\n",
    "from torch.utils.data import TensorDataset, DataLoader\n",
    "\n",
    "batch_size = 4\n",
    "\n",
    "\n",
    "def create_dataloaders(inputs, masks, labels, batch_size, shuffle=False):\n",
    "    input_tensor = torch.tensor(inputs)\n",
    "    mask_tensor = torch.tensor(masks).float()\n",
    "    labels_tensor = torch.tensor(labels).float()\n",
    "    dataset = TensorDataset(input_tensor, mask_tensor,\n",
    "                            labels_tensor)\n",
    "    dataloader = DataLoader(dataset, batch_size=batch_size,\n",
    "                            shuffle=shuffle)\n",
    "    return dataloader\n",
    "\n",
    "\n",
    "train_dataloader = create_dataloaders(encoding_t['input_ids'], encoding_t['attention_mask'],\n",
    "                                      y_train, batch_size, shuffle=True)\n",
    "val_dataloader = create_dataloaders(encoding_v['input_ids'], encoding_v['attention_mask'],\n",
    "                                    y_val, batch_size)"
   ],
   "metadata": {
    "collapsed": false
   }
  },
  {
   "cell_type": "code",
   "execution_count": 16,
   "outputs": [],
   "source": [
    "import torch.nn as nn\n",
    "from transformers.modeling_utils import PreTrainedModel\n",
    "from tqdm import tqdm\n",
    "\n",
    "class SbertRegressor(PreTrainedModel):\n",
    "    def __init__(self, interim_size=30, drop_rate=0.2):\n",
    "        model_name = 'sberbank-ai/sbert_large_nlu_ru'\n",
    "        cfg = AutoConfig.from_pretrained(model_name)\n",
    "        super().__init__(cfg)\n",
    "        D_in, D_out = 1024, 1\n",
    "\n",
    "        self.base = AutoModel.from_pretrained(model_name)\n",
    "\n",
    "        for param in self.base.parameters():\n",
    "            param.requires_grad = False\n",
    "\n",
    "        self.regressor = nn.Sequential(\n",
    "            nn.Linear(D_in, interim_size),\n",
    "            nn.Dropout(drop_rate),\n",
    "            nn.ReLU(),\n",
    "            nn.Linear(interim_size, D_out)\n",
    "        )\n",
    "\n",
    "    def forward(self, input_ids, attention_mask, labels=None):\n",
    "        outputs = self.base(input_ids, attention_mask)\n",
    "        class_label_output = outputs[1]\n",
    "        outputs = self.regressor(class_label_output)\n",
    "        return outputs\n",
    "\n",
    "    def learnable_params(self):\n",
    "        return self.regressor.parameters()\n",
    "\n",
    "\n",
    "model = SbertRegressor()"
   ],
   "metadata": {
    "collapsed": false
   }
  },
  {
   "cell_type": "code",
   "execution_count": 17,
   "outputs": [
    {
     "name": "stdout",
     "output_type": "stream",
     "text": [
      "Using GPU.\n"
     ]
    }
   ],
   "source": [
    "import torch\n",
    "\n",
    "if torch.cuda.is_available():\n",
    "    device = torch.device(\"cuda\")\n",
    "    print(\"Using GPU.\")\n",
    "else:\n",
    "    print(\"No GPU available, using the CPU instead.\")\n",
    "    device = torch.device(\"cpu\")\n",
    "model = model.to(device)"
   ],
   "metadata": {
    "collapsed": false
   }
  },
  {
   "cell_type": "code",
   "execution_count": 10,
   "outputs": [],
   "source": [
    "from torch.optim import AdamW\n",
    "\n",
    "optimizer = AdamW(model.learnable_params())"
   ],
   "metadata": {
    "collapsed": false
   }
  },
  {
   "cell_type": "code",
   "execution_count": 11,
   "outputs": [],
   "source": [
    "loss_function = nn.MSELoss()"
   ],
   "metadata": {
    "collapsed": false
   }
  },
  {
   "cell_type": "code",
   "execution_count": 12,
   "outputs": [
    {
     "name": "stderr",
     "output_type": "stream",
     "text": [
      " 25%|██▌       | 5001/19765 [14:38<43:12,  5.70it/s]  \n"
     ]
    }
   ],
   "source": [
    "def train(model, optimizer, loss_function,\n",
    "          train_dataloader, stop_step=5000, device='cuda'):\n",
    "    model.train()\n",
    "    for step, batch in enumerate(tqdm(train_dataloader)):\n",
    "        if step > stop_step :\n",
    "            break\n",
    "\n",
    "        batch_inputs, batch_masks, batch_labels = \\\n",
    "            tuple(b.to(device) for b in batch)\n",
    "\n",
    "        model.zero_grad()\n",
    "        outputs = model(batch_inputs, batch_masks)\n",
    "        loss = loss_function(outputs.squeeze(),\n",
    "                             batch_labels.squeeze())\n",
    "\n",
    "\n",
    "        loss.backward()\n",
    "        optimizer.step()\n",
    "\n",
    "    return model\n",
    "\n",
    "\n",
    "model = train(model, optimizer, loss_function,\n",
    "              train_dataloader)"
   ],
   "metadata": {
    "collapsed": false
   }
  },
  {
   "cell_type": "code",
   "execution_count": 13,
   "outputs": [],
   "source": [
    "torch.save(model.state_dict(), 'model.pt')"
   ],
   "metadata": {
    "collapsed": false
   }
  },
  {
   "cell_type": "code",
   "execution_count": 18,
   "outputs": [
    {
     "data": {
      "text/plain": "SbertRegressor(\n  (base): BertModel(\n    (embeddings): BertEmbeddings(\n      (word_embeddings): Embedding(120138, 1024, padding_idx=0)\n      (position_embeddings): Embedding(512, 1024)\n      (token_type_embeddings): Embedding(2, 1024)\n      (LayerNorm): LayerNorm((1024,), eps=1e-12, elementwise_affine=True)\n      (dropout): Dropout(p=0.1, inplace=False)\n    )\n    (encoder): BertEncoder(\n      (layer): ModuleList(\n        (0-23): 24 x BertLayer(\n          (attention): BertAttention(\n            (self): BertSelfAttention(\n              (query): Linear(in_features=1024, out_features=1024, bias=True)\n              (key): Linear(in_features=1024, out_features=1024, bias=True)\n              (value): Linear(in_features=1024, out_features=1024, bias=True)\n              (dropout): Dropout(p=0.1, inplace=False)\n            )\n            (output): BertSelfOutput(\n              (dense): Linear(in_features=1024, out_features=1024, bias=True)\n              (LayerNorm): LayerNorm((1024,), eps=1e-12, elementwise_affine=True)\n              (dropout): Dropout(p=0.1, inplace=False)\n            )\n          )\n          (intermediate): BertIntermediate(\n            (dense): Linear(in_features=1024, out_features=4096, bias=True)\n            (intermediate_act_fn): GELUActivation()\n          )\n          (output): BertOutput(\n            (dense): Linear(in_features=4096, out_features=1024, bias=True)\n            (LayerNorm): LayerNorm((1024,), eps=1e-12, elementwise_affine=True)\n            (dropout): Dropout(p=0.1, inplace=False)\n          )\n        )\n      )\n    )\n    (pooler): BertPooler(\n      (dense): Linear(in_features=1024, out_features=1024, bias=True)\n      (activation): Tanh()\n    )\n  )\n  (regressor): Sequential(\n    (0): Linear(in_features=1024, out_features=30, bias=True)\n    (1): Dropout(p=0.2, inplace=False)\n    (2): ReLU()\n    (3): Linear(in_features=30, out_features=1, bias=True)\n  )\n)"
     },
     "execution_count": 18,
     "metadata": {},
     "output_type": "execute_result"
    }
   ],
   "source": [
    "model.load_state_dict(torch.load('model.pt'))\n",
    "model.eval()"
   ],
   "metadata": {
    "collapsed": false
   }
  },
  {
   "cell_type": "code",
   "execution_count": 19,
   "outputs": [],
   "source": [
    "import numpy as np\n",
    "def predict(model, dataloader, out_scaler, device='cuda'):\n",
    "    model.eval()\n",
    "    output = []\n",
    "    for batch in tqdm(dataloader):\n",
    "        batch_inputs, batch_masks, _ = \\\n",
    "            tuple(b.to(device) for b in batch)\n",
    "        with torch.no_grad():\n",
    "            output += model(batch_inputs,\n",
    "                            batch_masks).view(1, -1).tolist()[0]\n",
    "    return pd.Series(out_scaler.inverse_transform(np.array(output).reshape(-1, 1)).reshape(-1))"
   ],
   "metadata": {
    "collapsed": false
   }
  },
  {
   "cell_type": "code",
   "execution_count": 20,
   "outputs": [
    {
     "name": "stderr",
     "output_type": "stream",
     "text": [
      "100%|██████████| 4942/4942 [13:38<00:00,  6.04it/s]\n"
     ]
    }
   ],
   "source": [
    "residual_preds = predict(model, val_dataloader, scaler)"
   ],
   "metadata": {
    "collapsed": false
   }
  },
  {
   "cell_type": "code",
   "execution_count": 30,
   "outputs": [],
   "source": [
    "residual_preds = pd.Series(residual_preds.reshape(-1))"
   ],
   "metadata": {
    "collapsed": false
   }
  },
  {
   "cell_type": "code",
   "execution_count": 31,
   "outputs": [
    {
     "data": {
      "text/plain": "count    1.976500e+04\nmean     2.736596e+05\nstd      8.263804e+05\nmin     -2.951442e+06\n25%     -3.332121e+05\n50%      3.619528e+05\n75%      1.183413e+06\nmax      1.183413e+06\ndtype: float64"
     },
     "execution_count": 31,
     "metadata": {},
     "output_type": "execute_result"
    }
   ],
   "source": [
    "residual_preds.describe()"
   ],
   "metadata": {
    "collapsed": false
   }
  },
  {
   "cell_type": "code",
   "execution_count": 52,
   "outputs": [
    {
     "data": {
      "text/plain": "['preds.pkl']"
     },
     "execution_count": 52,
     "metadata": {},
     "output_type": "execute_result"
    }
   ],
   "source": [
    "joblib.dump(total_preds, 'preds.pkl')"
   ],
   "metadata": {
    "collapsed": false
   }
  }
 ],
 "metadata": {
  "kernelspec": {
   "display_name": "Python 3",
   "language": "python",
   "name": "python3"
  },
  "language_info": {
   "codemirror_mode": {
    "name": "ipython",
    "version": 2
   },
   "file_extension": ".py",
   "mimetype": "text/x-python",
   "name": "python",
   "nbconvert_exporter": "python",
   "pygments_lexer": "ipython2",
   "version": "2.7.6"
  }
 },
 "nbformat": 4,
 "nbformat_minor": 0
}
